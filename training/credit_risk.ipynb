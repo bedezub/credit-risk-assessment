{
 "cells": [
  {
   "cell_type": "markdown",
   "metadata": {},
   "source": [
    "### Credit Risk Assessment\n",
    "\n",
    "A business use case for Maybank\n",
    "\n",
    "Author: bedezub  \n",
    "Date: 2023-05-15"
   ]
  },
  {
   "cell_type": "markdown",
   "metadata": {},
   "source": [
    "Import libraries"
   ]
  },
  {
   "cell_type": "code",
   "execution_count": 61,
   "metadata": {},
   "outputs": [],
   "source": [
    "## Basic Libraries:\n",
    "import pandas as pd\n",
    "import numpy as np\n",
    "import time\n",
    "import warnings\n",
    "warnings.filterwarnings(\"ignore\")\n",
    "\n",
    "## For making sample data:\n",
    "from sklearn.datasets import make_classification\n",
    "\n",
    "## For Preprocessing: \n",
    "from sklearn.compose import ColumnTransformer,make_column_selector\n",
    "from sklearn.model_selection import train_test_split, RandomizedSearchCV, cross_val_score, RepeatedKFold,RepeatedStratifiedKFold\n",
    "from sklearn.preprocessing import OneHotEncoder, StandardScaler, LabelEncoder\n",
    "from sklearn.experimental import enable_iterative_imputer\n",
    "from sklearn.impute import IterativeImputer\n",
    "\n",
    "## Using imblearn library:\n",
    "from imblearn.over_sampling import SMOTE\n",
    "from imblearn.pipeline import Pipeline\n",
    "from lightgbm import LGBMClassifier"
   ]
  },
  {
   "cell_type": "markdown",
   "metadata": {},
   "source": [
    "Load Data"
   ]
  },
  {
   "cell_type": "code",
   "execution_count": 62,
   "metadata": {},
   "outputs": [],
   "source": [
    "credit_df = pd.read_csv('./data/credit_risk_dataset.csv')"
   ]
  },
  {
   "cell_type": "markdown",
   "metadata": {},
   "source": [
    "Data Exploratory and Preprocessing"
   ]
  },
  {
   "cell_type": "markdown",
   "metadata": {},
   "source": [
    "1. Check for duplicates"
   ]
  },
  {
   "cell_type": "code",
   "execution_count": 63,
   "metadata": {},
   "outputs": [
    {
     "data": {
      "text/plain": [
       "False    32416\n",
       "True       165\n",
       "dtype: int64"
      ]
     },
     "execution_count": 63,
     "metadata": {},
     "output_type": "execute_result"
    }
   ],
   "source": [
    "duplicate_credit_df = credit_df.duplicated()\n",
    "duplicate_credit_df.value_counts()"
   ]
  },
  {
   "cell_type": "code",
   "execution_count": 64,
   "metadata": {},
   "outputs": [],
   "source": [
    "credit_df.drop_duplicates(inplace=True)"
   ]
  },
  {
   "cell_type": "markdown",
   "metadata": {},
   "source": [
    "2. Drop irrelevant columns"
   ]
  },
  {
   "cell_type": "code",
   "execution_count": 65,
   "metadata": {},
   "outputs": [],
   "source": [
    "credit_df.drop(['loan_int_rate'],axis=1,inplace=True)"
   ]
  },
  {
   "cell_type": "markdown",
   "metadata": {},
   "source": [
    "3. Check missing values"
   ]
  },
  {
   "cell_type": "code",
   "execution_count": 66,
   "metadata": {},
   "outputs": [
    {
     "data": {
      "text/plain": [
       "person_age                    False\n",
       "person_income                 False\n",
       "person_home_ownership         False\n",
       "person_emp_length              True\n",
       "loan_intent                   False\n",
       "loan_grade                    False\n",
       "loan_amnt                     False\n",
       "loan_status                   False\n",
       "loan_percent_income           False\n",
       "cb_person_default_on_file     False\n",
       "cb_person_cred_hist_length    False\n",
       "dtype: bool"
      ]
     },
     "execution_count": 66,
     "metadata": {},
     "output_type": "execute_result"
    }
   ],
   "source": [
    "credit_df.isnull().any()"
   ]
  },
  {
   "cell_type": "code",
   "execution_count": 67,
   "metadata": {},
   "outputs": [
    {
     "data": {
      "text/plain": [
       "person_age                      0\n",
       "person_income                   0\n",
       "person_home_ownership           0\n",
       "person_emp_length             887\n",
       "loan_intent                     0\n",
       "loan_grade                      0\n",
       "loan_amnt                       0\n",
       "loan_status                     0\n",
       "loan_percent_income             0\n",
       "cb_person_default_on_file       0\n",
       "cb_person_cred_hist_length      0\n",
       "dtype: int64"
      ]
     },
     "execution_count": 67,
     "metadata": {},
     "output_type": "execute_result"
    }
   ],
   "source": [
    "# Replace missing values\n",
    "credit_df.isna().sum()"
   ]
  },
  {
   "cell_type": "markdown",
   "metadata": {},
   "source": [
    "4. Data preparation for training"
   ]
  },
  {
   "cell_type": "code",
   "execution_count": 68,
   "metadata": {},
   "outputs": [],
   "source": [
    "X, X_test, y, y_test = train_test_split(\n",
    "    credit_df.drop('loan_status', axis=1), \n",
    "    credit_df['loan_status'],\n",
    "    random_state=0,  \n",
    "    test_size=0.2, \n",
    "    stratify=credit_df['loan_status'],\n",
    "    shuffle=True\n",
    ")"
   ]
  },
  {
   "cell_type": "code",
   "execution_count": 69,
   "metadata": {},
   "outputs": [
    {
     "data": {
      "text/plain": [
       "2.799629801018047"
      ]
     },
     "execution_count": 69,
     "metadata": {},
     "output_type": "execute_result"
    }
   ],
   "source": [
    "# Checking missing values in train data\n",
    "(X.shape[0]-X.dropna().shape[0])/X.shape[0]*100"
   ]
  },
  {
   "cell_type": "code",
   "execution_count": 45,
   "metadata": {},
   "outputs": [],
   "source": [
    "X = X.loc[X['person_age']<80, :]"
   ]
  },
  {
   "cell_type": "code",
   "execution_count": 46,
   "metadata": {},
   "outputs": [],
   "source": [
    "X = X.loc[X['person_emp_length']<60, :]"
   ]
  },
  {
   "cell_type": "markdown",
   "metadata": {},
   "source": [
    "5. Generate Pipeline for Training"
   ]
  },
  {
   "cell_type": "code",
   "execution_count": 70,
   "metadata": {},
   "outputs": [],
   "source": [
    "num_pipe = Pipeline([\n",
    "    ('impute', IterativeImputer()),     #MICE (Multivariate Imputation by Chained Equations)\n",
    "    ('scale', StandardScaler()),\n",
    "])"
   ]
  },
  {
   "cell_type": "code",
   "execution_count": 71,
   "metadata": {},
   "outputs": [],
   "source": [
    "ct = ColumnTransformer([\n",
    "    ('num_pipe', num_pipe, make_column_selector(dtype_include=np.number)),\n",
    "    ('cat_cols', OneHotEncoder(sparse=False, handle_unknown='ignore'), make_column_selector(dtype_include=object))\n",
    "], remainder='passthrough')"
   ]
  },
  {
   "cell_type": "code",
   "execution_count": 72,
   "metadata": {},
   "outputs": [],
   "source": [
    "grid = {\n",
    "    LGBMClassifier(class_weight='balanced', random_state=0): \n",
    "    {\n",
    "        'model__n_estimators':[400],\n",
    "        'model__learning_rate':[0.01],\n",
    "        'model__boosting_type': ['gbdt'],\n",
    "    }   \n",
    "}"
   ]
  },
  {
   "cell_type": "code",
   "execution_count": 73,
   "metadata": {},
   "outputs": [
    {
     "name": "stdout",
     "output_type": "stream",
     "text": [
      "Training LGBMClassifier(class_weight='balanced', random_state=0)!!\n",
      "\n",
      "Fitting!!\n",
      "\n",
      "Fitting 5 folds for each of 1 candidates, totalling 5 fits\n",
      "[CV 1/5] END model__boosting_type=gbdt, model__learning_rate=0.01, model__n_estimators=400;, score=0.935 total time=   4.7s\n",
      "[CV 2/5] END model__boosting_type=gbdt, model__learning_rate=0.01, model__n_estimators=400;, score=0.929 total time=   5.1s\n",
      "[CV 3/5] END model__boosting_type=gbdt, model__learning_rate=0.01, model__n_estimators=400;, score=0.932 total time=   4.7s\n",
      "[CV 4/5] END model__boosting_type=gbdt, model__learning_rate=0.01, model__n_estimators=400;, score=0.933 total time=   2.9s\n",
      "[CV 5/5] END model__boosting_type=gbdt, model__learning_rate=0.01, model__n_estimators=400;, score=0.933 total time=   2.3s\n",
      "Gathering Results!!\n",
      "\n"
     ]
    }
   ],
   "source": [
    "full_df = pd.DataFrame()\n",
    "best_algos = {}\n",
    "\n",
    "## Changing the ordering of the columns for ease of understanding:\n",
    "X=X[X.select_dtypes(include=[np.number]).columns.append(X.select_dtypes(\"O\").columns)]\n",
    "\n",
    "for model, param in grid.items():\n",
    "    ## The smote object:\n",
    "    smt = SMOTE(random_state=42)\n",
    "    \n",
    "    pipe = Pipeline([\n",
    "    ('coltf', ct),     #ct for the column transformer for preprocessing\n",
    "    ('smote', smt),\n",
    "    ('model', model)\n",
    "    ])\n",
    "    \n",
    "    print(f\"Training {model}!!\\n\")\n",
    "    ## Conducting a Randomized Search to find the best optimal hyperparamaters:\n",
    "    gs = RandomizedSearchCV(estimator=pipe, param_distributions=param, scoring='accuracy',verbose=3, n_iter=4, random_state=0)\n",
    "    \n",
    "    print(\"Fitting!!\\n\")\n",
    "    gs.fit(X, y)\n",
    "    \n",
    "    print(\"Gathering Results!!\\n\")\n",
    "    all_res = pd.DataFrame(gs.cv_results_)\n",
    "\n",
    "    temp = all_res.loc[:, ['params', 'mean_test_score']]\n",
    "    algo_name = str(model).split('(')[0]\n",
    "    temp['algo'] = algo_name\n",
    "    \n",
    "    full_df = pd.concat([full_df, temp], ignore_index=True)\n",
    "    best_algos[algo_name] = gs.best_estimator_"
   ]
  },
  {
   "cell_type": "code",
   "execution_count": 74,
   "metadata": {},
   "outputs": [
    {
     "data": {
      "text/html": [
       "<style>#sk-container-id-2 {color: black;background-color: white;}#sk-container-id-2 pre{padding: 0;}#sk-container-id-2 div.sk-toggleable {background-color: white;}#sk-container-id-2 label.sk-toggleable__label {cursor: pointer;display: block;width: 100%;margin-bottom: 0;padding: 0.3em;box-sizing: border-box;text-align: center;}#sk-container-id-2 label.sk-toggleable__label-arrow:before {content: \"▸\";float: left;margin-right: 0.25em;color: #696969;}#sk-container-id-2 label.sk-toggleable__label-arrow:hover:before {color: black;}#sk-container-id-2 div.sk-estimator:hover label.sk-toggleable__label-arrow:before {color: black;}#sk-container-id-2 div.sk-toggleable__content {max-height: 0;max-width: 0;overflow: hidden;text-align: left;background-color: #f0f8ff;}#sk-container-id-2 div.sk-toggleable__content pre {margin: 0.2em;color: black;border-radius: 0.25em;background-color: #f0f8ff;}#sk-container-id-2 input.sk-toggleable__control:checked~div.sk-toggleable__content {max-height: 200px;max-width: 100%;overflow: auto;}#sk-container-id-2 input.sk-toggleable__control:checked~label.sk-toggleable__label-arrow:before {content: \"▾\";}#sk-container-id-2 div.sk-estimator input.sk-toggleable__control:checked~label.sk-toggleable__label {background-color: #d4ebff;}#sk-container-id-2 div.sk-label input.sk-toggleable__control:checked~label.sk-toggleable__label {background-color: #d4ebff;}#sk-container-id-2 input.sk-hidden--visually {border: 0;clip: rect(1px 1px 1px 1px);clip: rect(1px, 1px, 1px, 1px);height: 1px;margin: -1px;overflow: hidden;padding: 0;position: absolute;width: 1px;}#sk-container-id-2 div.sk-estimator {font-family: monospace;background-color: #f0f8ff;border: 1px dotted black;border-radius: 0.25em;box-sizing: border-box;margin-bottom: 0.5em;}#sk-container-id-2 div.sk-estimator:hover {background-color: #d4ebff;}#sk-container-id-2 div.sk-parallel-item::after {content: \"\";width: 100%;border-bottom: 1px solid gray;flex-grow: 1;}#sk-container-id-2 div.sk-label:hover label.sk-toggleable__label {background-color: #d4ebff;}#sk-container-id-2 div.sk-serial::before {content: \"\";position: absolute;border-left: 1px solid gray;box-sizing: border-box;top: 0;bottom: 0;left: 50%;z-index: 0;}#sk-container-id-2 div.sk-serial {display: flex;flex-direction: column;align-items: center;background-color: white;padding-right: 0.2em;padding-left: 0.2em;position: relative;}#sk-container-id-2 div.sk-item {position: relative;z-index: 1;}#sk-container-id-2 div.sk-parallel {display: flex;align-items: stretch;justify-content: center;background-color: white;position: relative;}#sk-container-id-2 div.sk-item::before, #sk-container-id-2 div.sk-parallel-item::before {content: \"\";position: absolute;border-left: 1px solid gray;box-sizing: border-box;top: 0;bottom: 0;left: 50%;z-index: -1;}#sk-container-id-2 div.sk-parallel-item {display: flex;flex-direction: column;z-index: 1;position: relative;background-color: white;}#sk-container-id-2 div.sk-parallel-item:first-child::after {align-self: flex-end;width: 50%;}#sk-container-id-2 div.sk-parallel-item:last-child::after {align-self: flex-start;width: 50%;}#sk-container-id-2 div.sk-parallel-item:only-child::after {width: 0;}#sk-container-id-2 div.sk-dashed-wrapped {border: 1px dashed gray;margin: 0 0.4em 0.5em 0.4em;box-sizing: border-box;padding-bottom: 0.4em;background-color: white;}#sk-container-id-2 div.sk-label label {font-family: monospace;font-weight: bold;display: inline-block;line-height: 1.2em;}#sk-container-id-2 div.sk-label-container {text-align: center;}#sk-container-id-2 div.sk-container {/* jupyter's `normalize.less` sets `[hidden] { display: none; }` but bootstrap.min.css set `[hidden] { display: none !important; }` so we also need the `!important` here to be able to override the default hidden behavior on the sphinx rendered scikit-learn.org. See: https://github.com/scikit-learn/scikit-learn/issues/21755 */display: inline-block !important;position: relative;}#sk-container-id-2 div.sk-text-repr-fallback {display: none;}</style><div id=\"sk-container-id-2\" class=\"sk-top-container\"><div class=\"sk-text-repr-fallback\"><pre>Pipeline(steps=[(&#x27;coltf&#x27;,\n",
       "                 ColumnTransformer(remainder=&#x27;passthrough&#x27;,\n",
       "                                   transformers=[(&#x27;num_pipe&#x27;,\n",
       "                                                  Pipeline(steps=[(&#x27;impute&#x27;,\n",
       "                                                                   IterativeImputer()),\n",
       "                                                                  (&#x27;scale&#x27;,\n",
       "                                                                   StandardScaler())]),\n",
       "                                                  &lt;sklearn.compose._column_transformer.make_column_selector object at 0x000001EBB0816170&gt;),\n",
       "                                                 (&#x27;cat_cols&#x27;,\n",
       "                                                  OneHotEncoder(handle_unknown=&#x27;ignore&#x27;,\n",
       "                                                                sparse=False),\n",
       "                                                  &lt;sklearn.compose._column_transformer.make_column_selector object at 0x000001EBB0816A40&gt;)])),\n",
       "                (&#x27;smote&#x27;, SMOTE(random_state=42)),\n",
       "                (&#x27;model&#x27;,\n",
       "                 LGBMClassifier(class_weight=&#x27;balanced&#x27;, learning_rate=0.01,\n",
       "                                n_estimators=400, random_state=0))])</pre><b>In a Jupyter environment, please rerun this cell to show the HTML representation or trust the notebook. <br />On GitHub, the HTML representation is unable to render, please try loading this page with nbviewer.org.</b></div><div class=\"sk-container\" hidden><div class=\"sk-item sk-dashed-wrapped\"><div class=\"sk-label-container\"><div class=\"sk-label sk-toggleable\"><input class=\"sk-toggleable__control sk-hidden--visually\" id=\"sk-estimator-id-12\" type=\"checkbox\" ><label for=\"sk-estimator-id-12\" class=\"sk-toggleable__label sk-toggleable__label-arrow\">Pipeline</label><div class=\"sk-toggleable__content\"><pre>Pipeline(steps=[(&#x27;coltf&#x27;,\n",
       "                 ColumnTransformer(remainder=&#x27;passthrough&#x27;,\n",
       "                                   transformers=[(&#x27;num_pipe&#x27;,\n",
       "                                                  Pipeline(steps=[(&#x27;impute&#x27;,\n",
       "                                                                   IterativeImputer()),\n",
       "                                                                  (&#x27;scale&#x27;,\n",
       "                                                                   StandardScaler())]),\n",
       "                                                  &lt;sklearn.compose._column_transformer.make_column_selector object at 0x000001EBB0816170&gt;),\n",
       "                                                 (&#x27;cat_cols&#x27;,\n",
       "                                                  OneHotEncoder(handle_unknown=&#x27;ignore&#x27;,\n",
       "                                                                sparse=False),\n",
       "                                                  &lt;sklearn.compose._column_transformer.make_column_selector object at 0x000001EBB0816A40&gt;)])),\n",
       "                (&#x27;smote&#x27;, SMOTE(random_state=42)),\n",
       "                (&#x27;model&#x27;,\n",
       "                 LGBMClassifier(class_weight=&#x27;balanced&#x27;, learning_rate=0.01,\n",
       "                                n_estimators=400, random_state=0))])</pre></div></div></div><div class=\"sk-serial\"><div class=\"sk-item sk-dashed-wrapped\"><div class=\"sk-label-container\"><div class=\"sk-label sk-toggleable\"><input class=\"sk-toggleable__control sk-hidden--visually\" id=\"sk-estimator-id-13\" type=\"checkbox\" ><label for=\"sk-estimator-id-13\" class=\"sk-toggleable__label sk-toggleable__label-arrow\">coltf: ColumnTransformer</label><div class=\"sk-toggleable__content\"><pre>ColumnTransformer(remainder=&#x27;passthrough&#x27;,\n",
       "                  transformers=[(&#x27;num_pipe&#x27;,\n",
       "                                 Pipeline(steps=[(&#x27;impute&#x27;, IterativeImputer()),\n",
       "                                                 (&#x27;scale&#x27;, StandardScaler())]),\n",
       "                                 &lt;sklearn.compose._column_transformer.make_column_selector object at 0x000001EBB0816170&gt;),\n",
       "                                (&#x27;cat_cols&#x27;,\n",
       "                                 OneHotEncoder(handle_unknown=&#x27;ignore&#x27;,\n",
       "                                               sparse=False),\n",
       "                                 &lt;sklearn.compose._column_transformer.make_column_selector object at 0x000001EBB0816A40&gt;)])</pre></div></div></div><div class=\"sk-parallel\"><div class=\"sk-parallel-item\"><div class=\"sk-item\"><div class=\"sk-label-container\"><div class=\"sk-label sk-toggleable\"><input class=\"sk-toggleable__control sk-hidden--visually\" id=\"sk-estimator-id-14\" type=\"checkbox\" ><label for=\"sk-estimator-id-14\" class=\"sk-toggleable__label sk-toggleable__label-arrow\">num_pipe</label><div class=\"sk-toggleable__content\"><pre>&lt;sklearn.compose._column_transformer.make_column_selector object at 0x000001EBB0816170&gt;</pre></div></div></div><div class=\"sk-serial\"><div class=\"sk-item\"><div class=\"sk-serial\"><div class=\"sk-item\"><div class=\"sk-estimator sk-toggleable\"><input class=\"sk-toggleable__control sk-hidden--visually\" id=\"sk-estimator-id-15\" type=\"checkbox\" ><label for=\"sk-estimator-id-15\" class=\"sk-toggleable__label sk-toggleable__label-arrow\">IterativeImputer</label><div class=\"sk-toggleable__content\"><pre>IterativeImputer()</pre></div></div></div><div class=\"sk-item\"><div class=\"sk-estimator sk-toggleable\"><input class=\"sk-toggleable__control sk-hidden--visually\" id=\"sk-estimator-id-16\" type=\"checkbox\" ><label for=\"sk-estimator-id-16\" class=\"sk-toggleable__label sk-toggleable__label-arrow\">StandardScaler</label><div class=\"sk-toggleable__content\"><pre>StandardScaler()</pre></div></div></div></div></div></div></div></div><div class=\"sk-parallel-item\"><div class=\"sk-item\"><div class=\"sk-label-container\"><div class=\"sk-label sk-toggleable\"><input class=\"sk-toggleable__control sk-hidden--visually\" id=\"sk-estimator-id-17\" type=\"checkbox\" ><label for=\"sk-estimator-id-17\" class=\"sk-toggleable__label sk-toggleable__label-arrow\">cat_cols</label><div class=\"sk-toggleable__content\"><pre>&lt;sklearn.compose._column_transformer.make_column_selector object at 0x000001EBB0816A40&gt;</pre></div></div></div><div class=\"sk-serial\"><div class=\"sk-item\"><div class=\"sk-estimator sk-toggleable\"><input class=\"sk-toggleable__control sk-hidden--visually\" id=\"sk-estimator-id-18\" type=\"checkbox\" ><label for=\"sk-estimator-id-18\" class=\"sk-toggleable__label sk-toggleable__label-arrow\">OneHotEncoder</label><div class=\"sk-toggleable__content\"><pre>OneHotEncoder(handle_unknown=&#x27;ignore&#x27;, sparse=False)</pre></div></div></div></div></div></div><div class=\"sk-parallel-item\"><div class=\"sk-item\"><div class=\"sk-label-container\"><div class=\"sk-label sk-toggleable\"><input class=\"sk-toggleable__control sk-hidden--visually\" id=\"sk-estimator-id-19\" type=\"checkbox\" ><label for=\"sk-estimator-id-19\" class=\"sk-toggleable__label sk-toggleable__label-arrow\">remainder</label><div class=\"sk-toggleable__content\"><pre>[]</pre></div></div></div><div class=\"sk-serial\"><div class=\"sk-item\"><div class=\"sk-estimator sk-toggleable\"><input class=\"sk-toggleable__control sk-hidden--visually\" id=\"sk-estimator-id-20\" type=\"checkbox\" ><label for=\"sk-estimator-id-20\" class=\"sk-toggleable__label sk-toggleable__label-arrow\">passthrough</label><div class=\"sk-toggleable__content\"><pre>passthrough</pre></div></div></div></div></div></div></div></div><div class=\"sk-item\"><div class=\"sk-estimator sk-toggleable\"><input class=\"sk-toggleable__control sk-hidden--visually\" id=\"sk-estimator-id-21\" type=\"checkbox\" ><label for=\"sk-estimator-id-21\" class=\"sk-toggleable__label sk-toggleable__label-arrow\">SMOTE</label><div class=\"sk-toggleable__content\"><pre>SMOTE(random_state=42)</pre></div></div></div><div class=\"sk-item\"><div class=\"sk-estimator sk-toggleable\"><input class=\"sk-toggleable__control sk-hidden--visually\" id=\"sk-estimator-id-22\" type=\"checkbox\" ><label for=\"sk-estimator-id-22\" class=\"sk-toggleable__label sk-toggleable__label-arrow\">LGBMClassifier</label><div class=\"sk-toggleable__content\"><pre>LGBMClassifier(class_weight=&#x27;balanced&#x27;, learning_rate=0.01, n_estimators=400,\n",
       "               random_state=0)</pre></div></div></div></div></div></div></div>"
      ],
      "text/plain": [
       "Pipeline(steps=[('coltf',\n",
       "                 ColumnTransformer(remainder='passthrough',\n",
       "                                   transformers=[('num_pipe',\n",
       "                                                  Pipeline(steps=[('impute',\n",
       "                                                                   IterativeImputer()),\n",
       "                                                                  ('scale',\n",
       "                                                                   StandardScaler())]),\n",
       "                                                  <sklearn.compose._column_transformer.make_column_selector object at 0x000001EBB0816170>),\n",
       "                                                 ('cat_cols',\n",
       "                                                  OneHotEncoder(handle_unknown='ignore',\n",
       "                                                                sparse=False),\n",
       "                                                  <sklearn.compose._column_transformer.make_column_selector object at 0x000001EBB0816A40>)])),\n",
       "                ('smote', SMOTE(random_state=42)),\n",
       "                ('model',\n",
       "                 LGBMClassifier(class_weight='balanced', learning_rate=0.01,\n",
       "                                n_estimators=400, random_state=0))])"
      ]
     },
     "execution_count": 74,
     "metadata": {},
     "output_type": "execute_result"
    }
   ],
   "source": [
    "be_lgb = best_algos['LGBMClassifier']"
   ]
  },
  {
   "cell_type": "code",
   "execution_count": 75,
   "metadata": {},
   "outputs": [
    {
     "name": "stdout",
     "output_type": "stream",
     "text": [
      "The MEAN of score obtained after CROSS VALIDATION of the LGBM Based Pipeline is: 0.932104562532638 or 93.21%\n",
      "CPU times: total: 344 ms\n",
      "Wall time: 22.8 s\n"
     ]
    }
   ],
   "source": [
    "%%time\n",
    "## A dry run of the best pipeline:\n",
    "pipe_lgb = be_lgb\n",
    "# evaluate pipeline using k-fold cross validation:\n",
    "cv = RepeatedStratifiedKFold(n_splits=5, n_repeats=3, random_state=1)\n",
    "scores = cross_val_score(pipe_lgb, X, y, scoring='accuracy', cv=cv, n_jobs=-1)\n",
    "print(f\"The MEAN of score obtained after CROSS VALIDATION of the LGBM Based Pipeline is: {scores.mean()} or {scores.mean()*100:.2f}%\")"
   ]
  },
  {
   "cell_type": "code",
   "execution_count": 76,
   "metadata": {},
   "outputs": [
    {
     "name": "stdout",
     "output_type": "stream",
     "text": [
      "The ACCURACY SCORE produced on the TEST SET by the LGBM Based Pipeline is: 0.9285934608266502 or 92.85934608266501%.\n",
      "CPU times: total: 13 s\n",
      "Wall time: 4.93 s\n"
     ]
    }
   ],
   "source": [
    "%%time\n",
    "## Fitting into best pipeline for evaluation:\n",
    "pipe_lgb.fit(X, y)\n",
    "## Getting predictions:\n",
    "preds_lgb = pipe_lgb.predict(X_test)\n",
    "## Getting probabilities:\n",
    "probs_lgb = pipe_lgb.predict_proba(X_test)\n",
    "## Accuracy Score:\n",
    "print(f\"The ACCURACY SCORE produced on the TEST SET by the LGBM Based Pipeline is: {accuracy_score(y_test,preds_lgb)} or {accuracy_score(y_test,preds_lgb)*100}%.\")"
   ]
  },
  {
   "cell_type": "markdown",
   "metadata": {},
   "source": [
    "6. Deploy application to Streamlit?"
   ]
  },
  {
   "cell_type": "code",
   "execution_count": 77,
   "metadata": {},
   "outputs": [
    {
     "data": {
      "text/plain": [
       "['best_pipeline.pkl']"
      ]
     },
     "execution_count": 77,
     "metadata": {},
     "output_type": "execute_result"
    }
   ],
   "source": [
    "# Save the ML Pipeline:\n",
    "import joblib\n",
    "joblib.dump(pipe_lgb, 'best_pipeline.pkl')"
   ]
  },
  {
   "cell_type": "code",
   "execution_count": null,
   "metadata": {},
   "outputs": [],
   "source": [
    "import streamlit as st\n",
    "import numpy as np\n",
    "import pandas as pd\n",
    "from PIL import Image\n",
    "import sklearn\n",
    "import joblib\n",
    "import json\n",
    "\n",
    "## Side Tab:\n",
    "l=[\"Introduction\",\"Predict your Credit Score\"]\n",
    "st.sidebar.subheader(\"Here's what you can do:\")\n",
    "option=st.sidebar.selectbox(\"Choose what you want to do:\",l)\n",
    "\n",
    "def page_1():\n",
    "    ## Intro Tab::\n",
    "    image = Image.open('Credit_Risk.jpg')\n",
    "\n",
    "    ## Displaying the image:\n",
    "    st.image(image,use_column_width=\"always\")\n",
    "\n",
    "    ## Headers:\n",
    "    st.title(\"Welcome to this Mock Credit Risk Simulator\")\n",
    "    st.header(\"Here's the drill. You get me whatever I need and I predict whether you are eligible or not. DEAL!\")\n",
    "    st.subheader(\"Let's get started...\")\n",
    "\n",
    "def page_2():\n",
    "    data={}\n",
    "    ## Details Tab:\n",
    "    st.header(\"Gimme your details and I will deliver magic!\")\n",
    "\n",
    "    #Full Name:\n",
    "    first,last=st.columns(2)\n",
    "    first=first.text_input(\"Enter your First Name:\")\n",
    "    last=last.text_input(\"Enter your Last Name:\")\n",
    "    data[\"First Name\"]=first\n",
    "    data[\"Last Name\"]=last\n",
    "\n",
    "    name=first+\" \"+last\n",
    "    data[\"Full Name\"]=name\n",
    "\n",
    "    ##Age:\n",
    "    age=st.slider(\"Enter your Age:\",10,70)\n",
    "    data[\"Age\"]=age\n",
    "\n",
    "    ##Annual Income:\n",
    "    ai=st.number_input(\"Enter your Annual Income:\",1000,100000)\n",
    "    data[\"Annual Income\"]=ai\n",
    "\n",
    "    ##Home Ownership:\n",
    "    ho=st.selectbox(\"What is the type of House Ownership:\", [\"RENT\", \"OWN\", \"MORTGAGE\",\"OTHER\"])\n",
    "    data[\"Home Ownership\"]=ho\n",
    "\n",
    "    ##Employment Length:\n",
    "    el=st.number_input(\"Enter your Work Experience in years:\",2,50)\n",
    "    data[\"Employment Length\"]=el\n",
    "\n",
    "    ##Loan Intent:\n",
    "    li=st.selectbox(\"Why do you want a loan?\", ['EDUCATION', 'MEDICAL', 'VENTURE', 'PERSONAL', 'DEBTCONSOLIDATION',\n",
    "                                                'HOMEIMPROVEMENT'])\n",
    "    data[\"Loan Intent\"]=li\n",
    "    ##Loan Grade:\n",
    "    lg=st.selectbox(\"Grade of Loan expected?\", ['A', 'B', 'C', 'D', 'E', 'F', 'G'])\n",
    "    data[\"Loan Grade\"]=lg\n",
    "\n",
    "    ## Loan Amount:\n",
    "    la=st.number_input(\"Enter your Work Experience in years:\",100,50000)\n",
    "    data[\"Loan Amount\"]=la\n",
    "\n",
    "    ## loan_percent_income:\n",
    "    lpi=st.number_input(\"Enter your % Income to be used for repaying:\",0,100)\n",
    "    data[\"Loan Percent Income\"]=lpi\n",
    "\n",
    "    ## cb_person_default_on_file:\n",
    "    def_his=st.selectbox(\"Have your ever defaulted?\",[\"Y\",\"N\"]) \n",
    "    data[\"Previous Defaults\"]=def_his\n",
    "\n",
    "    ## cb_person_cred_hist_length:\n",
    "    n_def=st.slider(\"Total Number of Defaults:\",0,50)\n",
    "    data[\"Number of Defaults\"]=n_def\n",
    "\n",
    "    ## Make a submit button:\n",
    "    data_display=json.dumps(data)\n",
    "    temp=pd.DataFrame(data,index=[0])  ## making a record\n",
    "\n",
    "    ## Display the input data as a json:\n",
    "    if st.button(\"Display Data\",key = 8)==1:\n",
    "        st.write(\"The data in JSON Format:\")\n",
    "        st.write(data_display)        \n",
    "        st.write(\"\\nThe data in Tabular Format:\")\n",
    "        st.write(temp)   \n",
    " \n",
    "    ## Display the prediction:\n",
    "    if st.button(\"Predict Credit Score\",key = 9)==1:\n",
    "        ## Order of passing the data into the pipeline:\n",
    "        cols=['person_age', 'person_income', 'person_emp_length', 'loan_amnt',\n",
    "       'loan_percent_income', 'cb_person_cred_hist_length',\n",
    "       'person_home_ownership', 'loan_intent', 'loan_grade',\n",
    "       'cb_person_default_on_file']  ## List of columns of the original dataframe\n",
    "                \n",
    "        input_data=[[data[\"Age\"],data[\"Annual Income\"],data[\"Employment Length\"],data[\"Loan Amount\"],\n",
    "                     round(data[\"Loan Percent Income\"]/100,2),data[\"Number of Defaults\"],\n",
    "                     data[\"Home Ownership\"],data[\"Loan Intent\"],data[\"Loan Grade\"],data[\"Previous Defaults\"]]]\n",
    "        \n",
    "        pipe=joblib.load('best_pipeline.pkl')  ## Loading the pipeline\n",
    "        \n",
    "        input_data=pd.DataFrame(input_data,columns=cols)  ## Converting input into a dataframe with respective columns\n",
    "\n",
    "        res=pipe.predict(input_data)[0]  ## Predicting the class\n",
    "        out={1:\"The Customer is capable of DEFAULTING. Hence it is RISKY to provide loan!\", 0:\"The Customer is capable of NOT DEFAULTING. Hence it is POSSIBLE to provide loan!\"}\n",
    "        st.write(f\"The Final Verdict obtained from the given model is that : {out[res]}\")\n",
    "if option==l[0]:\n",
    "    page_1()\n",
    "\n",
    "if option==l[1]:\n",
    "    page_2()\n"
   ]
  }
 ],
 "metadata": {
  "kernelspec": {
   "display_name": "Python 3.10.1 64-bit",
   "language": "python",
   "name": "python3"
  },
  "language_info": {
   "codemirror_mode": {
    "name": "ipython",
    "version": 3
   },
   "file_extension": ".py",
   "mimetype": "text/x-python",
   "name": "python",
   "nbconvert_exporter": "python",
   "pygments_lexer": "ipython3",
   "version": "3.10.1"
  },
  "orig_nbformat": 4,
  "vscode": {
   "interpreter": {
    "hash": "369f2c481f4da34e4445cda3fffd2e751bd1c4d706f27375911949ba6bb62e1c"
   }
  }
 },
 "nbformat": 4,
 "nbformat_minor": 2
}
